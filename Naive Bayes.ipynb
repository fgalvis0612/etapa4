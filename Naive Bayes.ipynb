{
 "cells": [
  {
   "cell_type": "code",
   "execution_count": 1,
   "id": "0293c660-cea2-4fea-a824-8734889b32d5",
   "metadata": {
    "tags": []
   },
   "outputs": [],
   "source": [
    "# Primero necesitamos importar algunas bibliotecas y cargar el dataset.\n",
    "import pandas as pd\n",
    "import numpy as np\n",
    "from sklearn.model_selection import train_test_split\n",
    "from sklearn.naive_bayes import GaussianNB\n",
    "from sklearn.metrics import accuracy_score"
   ]
  },
  {
   "cell_type": "code",
   "execution_count": 2,
   "id": "104e3251-83c3-4a58-bb89-23010ca6c4e7",
   "metadata": {
    "tags": []
   },
   "outputs": [],
   "source": [
    "# Cargar la base de datos\n",
    "data = pd.read_csv(\"C:/Users/Felipe Galvis/Documents/Python/Raw-Data.csv\")"
   ]
  },
  {
   "cell_type": "code",
   "execution_count": 3,
   "id": "c6d82a24-8f51-4c6f-a7a0-8af4626903c6",
   "metadata": {
    "tags": []
   },
   "outputs": [
    {
     "name": "stdout",
     "output_type": "stream",
     "text": [
      "              Country    Age       Gender  \\\n",
      "0               China    0-9         Male   \n",
      "1               Italy  10-19       Female   \n",
      "2                Iran  20-24  Transgender   \n",
      "3  Republic of Korean  25-59          NaN   \n",
      "4              France    60+          NaN   \n",
      "\n",
      "                                            Symptoms  \\\n",
      "0  Fever,Tiredness,Dry-Cough,Difficulty-in-Breath...   \n",
      "1  Fever,Tiredness,Dry-Cough,Difficulty-in-Breathing   \n",
      "2                          Fever,Tiredness,Dry-Cough   \n",
      "3                                    Fever,Tiredness   \n",
      "4                                              Fever   \n",
      "\n",
      "                        Experiencing_Symptoms  Severity    Contact  \n",
      "0  Pains,Nasal-Congestion,Runny-Nose,Diarrhea      Mild        Yes  \n",
      "1           Pains,Nasal-Congestion,Runny-Nose  Moderate         No  \n",
      "2                      Pains,Nasal-Congestion    Severe  Dont-Know  \n",
      "3                                       Pains      None        NaN  \n",
      "4        Nasal-Congestion,Runny-Nose,Diarrhea       NaN        NaN  \n"
     ]
    }
   ],
   "source": [
    "# Ver las primeras filas de la base de datos\n",
    "print(data.head())"
   ]
  },
  {
   "cell_type": "code",
   "execution_count": 4,
   "id": "013e2a30-2746-40f6-af63-859ab44cac69",
   "metadata": {
    "tags": []
   },
   "outputs": [
    {
     "name": "stdout",
     "output_type": "stream",
     "text": [
      "Index(['Country', 'Age', 'Gender', 'Symptoms', 'Experiencing_Symptoms',\n",
      "       'Severity', 'Contact'],\n",
      "      dtype='object')\n"
     ]
    }
   ],
   "source": [
    "print(data.columns)"
   ]
  },
  {
   "cell_type": "code",
   "execution_count": 5,
   "id": "e3900392-a07c-4a7c-91ff-385a0d9cfd8e",
   "metadata": {
    "tags": []
   },
   "outputs": [],
   "source": [
    "\"\"\"Una vez que hemos cargado el dataset, necesitamos dividirlo en conjuntos de entrenamiento y prueba\"\"\"\n",
    "\n",
    "\n",
    "# Dividir el dataset en características (X) y etiquetas (y)\n",
    "X = data.drop('Symptoms', axis=1)\n",
    "y = data['Symptoms']\n",
    "\n",
    "# Dividir los datos en conjuntos de entrenamiento y prueba\n",
    "# X_train, X_test, y_train, y_test = train_test_split(X, y, test_size=0.2, random_state=42)"
   ]
  },
  {
   "cell_type": "code",
   "execution_count": 6,
   "id": "2dce9f06-0312-4d99-ba4d-f60f17871b8f",
   "metadata": {
    "tags": []
   },
   "outputs": [],
   "source": [
    "\"\"\"Debemos tener en cuenta que el clasificador Naive Bayes espera que las características de entrada sean numéricas,\n",
    "tendremos que preprocesar los datos y convertir todas las características categóricas en numéricas, para convertir\n",
    "se utiliza la técnica de codificación one-hot. La codificación one-hot crea nuevas columnas binarias\"\"\"\n",
    "\n",
    "# Realizar la codificación one-hot en las características categóricas\n",
    "X_encoded = pd.get_dummies(X)\n",
    "\n",
    "# Dividir los datos en conjuntos de entrenamiento y prueba\n",
    "X_train, X_test, y_train, y_test = train_test_split(X_encoded, y, test_size=0.2, random_state=42)"
   ]
  },
  {
   "cell_type": "code",
   "execution_count": 7,
   "id": "ca7d6c3e-f3a2-451c-9875-98bda9cc0e09",
   "metadata": {
    "tags": []
   },
   "outputs": [],
   "source": [
    "\"\"\"podemos entrenar el clasificador Naive Bayes y realizar predicciones\"\"\"\n",
    "\n",
    "# Crear y entrenar el clasificador Naive Bayes\n",
    "gnb = GaussianNB()\n",
    "gnb.fit(X_train, y_train)\n",
    "\n",
    "# Realizar predicciones en el conjunto de prueba\n",
    "y_pred = gnb.predict(X_test)"
   ]
  },
  {
   "cell_type": "code",
   "execution_count": 9,
   "id": "8619630f-acab-4a94-997a-cf839ee64d6f",
   "metadata": {
    "tags": []
   },
   "outputs": [
    {
     "name": "stdout",
     "output_type": "stream",
     "text": [
      "Precisión del clasificador Naive Bayes: 0.0\n"
     ]
    }
   ],
   "source": [
    "\"\"\"podemos evaluar la precisión de nuestro clasificador\"\"\"\n",
    "# Calcular la precisión del clasificador\n",
    "accuracy = accuracy_score(y_test, y_pred)\n",
    "print(\"Precisión del clasificador Naive Bayes:\", accuracy)"
   ]
  },
  {
   "cell_type": "code",
   "execution_count": 10,
   "id": "9674256d-d70a-43da-a749-407b2a0c7304",
   "metadata": {
    "tags": []
   },
   "outputs": [
    {
     "name": "stdout",
     "output_type": "stream",
     "text": [
      "[[0.25000071 0.25000071 0.25000071 0.         0.         0.\n",
      "  0.         0.         0.25000071 0.         0.         0.        ]\n",
      " [0.25000071 0.25000071 0.25000071 0.         0.         0.\n",
      "  0.         0.         0.25000071 0.         0.         0.        ]\n",
      " [0.25000024 0.25000024 0.25000024 0.         0.         0.\n",
      "  0.         0.         0.25000024 0.         0.         0.        ]\n",
      " [0.25       0.25       0.25       0.         0.         0.\n",
      "  0.         0.         0.25       0.         0.         0.        ]]\n"
     ]
    }
   ],
   "source": [
    "\"\"\"para obtener la probabilidad posterior para cada clase, puedes hacerlo utilizando el método predict_proba\"\"\"\n",
    "\n",
    "# Obtener la probabilidad posterior para cada clase\n",
    "y_prob = gnb.predict_proba(X_test)\n",
    "\n",
    "# Imprimir las primeras 10 probabilidades posteriores\n",
    "print(y_prob[:10])"
   ]
  },
  {
   "cell_type": "code",
   "execution_count": null,
   "id": "a70ea26b-4b9d-4511-ac24-e668c6533774",
   "metadata": {},
   "outputs": [],
   "source": []
  }
 ],
 "metadata": {
  "kernelspec": {
   "display_name": "Python 3 (ipykernel)",
   "language": "python",
   "name": "python3"
  },
  "language_info": {
   "codemirror_mode": {
    "name": "ipython",
    "version": 3
   },
   "file_extension": ".py",
   "mimetype": "text/x-python",
   "name": "python",
   "nbconvert_exporter": "python",
   "pygments_lexer": "ipython3",
   "version": "3.11.4"
  }
 },
 "nbformat": 4,
 "nbformat_minor": 5
}
